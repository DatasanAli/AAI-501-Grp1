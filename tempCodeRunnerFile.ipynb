# Create dataframe with performance metrics
metrics = ['Accuracy', 'Precision', 'Recall', 'F1 Score']
models = ['XGBoost', 'ANN', 'Naive Bayes']

data = {
    'Metric': metrics * 3,
    'Model': [model for model in models for _ in range(len(metrics))],
    'Value': [
        81.7, 64.0, 38.0, 48.0,  # XGBoost
        78.0, 61.0, 32.0, 42.0,  # ANN
        72.0, 53.0, 29.0, 37.0   # Naive Bayes
    ]
}

df = pd.DataFrame(data)