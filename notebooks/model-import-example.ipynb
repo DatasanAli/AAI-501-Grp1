{
 "cells": [
  {
   "cell_type": "code",
   "execution_count": 1,
   "metadata": {},
   "outputs": [
    {
     "name": "stdout",
     "output_type": "stream",
     "text": [
      "\n",
      "Classification Report:\n",
      "              precision    recall  f1-score   support\n",
      "\n",
      "           0       0.86      0.92      0.89      7060\n",
      "           1       0.60      0.44      0.51      1940\n",
      "\n",
      "    accuracy                           0.82      9000\n",
      "   macro avg       0.73      0.68      0.70      9000\n",
      "weighted avg       0.80      0.82      0.80      9000\n",
      "\n",
      "ROC-AUC Score: 0.7682076312023598\n"
     ]
    }
   ],
   "source": [
    "import joblib\n",
    "from util.model_eval import predict_and_score\n",
    "\n",
    "# Load the model from the file\n",
    "xgb_model = joblib.load('models/xgboost/xbg_model.joblib')\n",
    "xgb_test_features = joblib.load('models/xgboost/test_features.joblib')\n",
    "xgb_test_targets = joblib.load('models/xgboost/test_targets.joblib')\n",
    "\n",
    "predict_and_score(xgb_model, xgb_test_features, xgb_test_targets)"
   ]
  },
  {
   "cell_type": "code",
   "execution_count": 2,
   "metadata": {},
   "outputs": [
    {
     "name": "stdout",
     "output_type": "stream",
     "text": [
      "\n",
      "Classification Report:\n",
      "              precision    recall  f1-score   support\n",
      "\n",
      "           0       0.84      0.94      0.89      4687\n",
      "           1       0.63      0.35      0.45      1313\n",
      "\n",
      "    accuracy                           0.81      6000\n",
      "   macro avg       0.73      0.65      0.67      6000\n",
      "weighted avg       0.79      0.81      0.79      6000\n",
      "\n",
      "ROC-AUC Score: 0.7101196760302312\n"
     ]
    }
   ],
   "source": [
    "nb = joblib.load('models/naive_bayes/naive_bayes_ensemble.joblib')\n",
    "nb_test_features = joblib.load('models/naive_bayes/test_features.joblib')\n",
    "nb_test_targets = joblib.load('models/naive_bayes/test_targets.joblib')\n",
    "\n",
    "predict_and_score(nb, nb_test_features, nb_test_targets)"
   ]
  },
  {
   "cell_type": "code",
   "execution_count": 5,
   "metadata": {},
   "outputs": [
    {
     "name": "stdout",
     "output_type": "stream",
     "text": [
      "\u001b[1m  1/188\u001b[0m \u001b[37m━━━━━━━━━━━━━━━━━━━━\u001b[0m \u001b[1m9s\u001b[0m 52ms/step"
     ]
    },
    {
     "name": "stderr",
     "output_type": "stream",
     "text": [
      "/Users/omar/miniconda3/envs/credit_card_defaults_prediction/lib/python3.10/site-packages/keras/src/saving/saving_lib.py:719: UserWarning: Skipping variable loading for optimizer 'adam', because it has 14 variables whereas the saved optimizer has 2 variables. \n",
      "  saveable.load_own_variables(weights_store.get(inner_path))\n"
     ]
    },
    {
     "name": "stdout",
     "output_type": "stream",
     "text": [
      "\u001b[1m188/188\u001b[0m \u001b[32m━━━━━━━━━━━━━━━━━━━━\u001b[0m\u001b[37m\u001b[0m \u001b[1m0s\u001b[0m 829us/step\n",
      "\n",
      "Classification Report:\n",
      "              precision    recall  f1-score   support\n",
      "\n",
      "           0       0.87      0.79      0.83      4673\n",
      "           1       0.45      0.60      0.51      1327\n",
      "\n",
      "    accuracy                           0.75      6000\n",
      "   macro avg       0.66      0.69      0.67      6000\n",
      "weighted avg       0.78      0.75      0.76      6000\n",
      "\n",
      "\u001b[1m188/188\u001b[0m \u001b[32m━━━━━━━━━━━━━━━━━━━━\u001b[0m\u001b[37m\u001b[0m \u001b[1m0s\u001b[0m 704us/step\n",
      "ROC-AUC Score: 0.7550604564921124\n"
     ]
    }
   ],
   "source": [
    "ann = joblib.load('models/neural_net/ann_model.joblib')\n",
    "ann_test_features = joblib.load('models/neural_net/test_features.joblib')\n",
    "ann_test_targets = joblib.load('models/neural_net/test_targets.joblib')\n",
    "\n",
    "predict_and_score(ann, ann_test_features, ann_test_targets)"
   ]
  },
  {
   "cell_type": "code",
   "execution_count": null,
   "metadata": {},
   "outputs": [],
   "source": []
  }
 ],
 "metadata": {
  "kernelspec": {
   "display_name": "Python 3 (ipykernel)",
   "language": "python",
   "name": "python3"
  },
  "language_info": {
   "codemirror_mode": {
    "name": "ipython",
    "version": 3
   },
   "file_extension": ".py",
   "mimetype": "text/x-python",
   "name": "python",
   "nbconvert_exporter": "python",
   "pygments_lexer": "ipython3",
   "version": "3.10.15"
  }
 },
 "nbformat": 4,
 "nbformat_minor": 4
}
