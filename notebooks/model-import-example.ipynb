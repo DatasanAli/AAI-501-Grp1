{
 "cells": [
  {
   "cell_type": "code",
   "execution_count": null,
   "metadata": {},
   "outputs": [
    {
     "name": "stdout",
     "output_type": "stream",
     "text": [
      "\n",
      "Classification Report:\n",
      "              precision    recall  f1-score   support\n",
      "\n",
      "           0       0.86      0.92      0.89      7060\n",
      "           1       0.60      0.44      0.51      1940\n",
      "\n",
      "    accuracy                           0.82      9000\n",
      "   macro avg       0.73      0.68      0.70      9000\n",
      "weighted avg       0.80      0.82      0.80      9000\n",
      "\n",
      "ROC-AUC Score: 0.7682076312023598\n"
     ]
    }
   ],
   "source": [
    "import joblib\n",
    "from util.model_eval import predict_and_score\n",
    "\n",
    "# Load the model from the file\n",
    "xgb_model = joblib.load(\"models/xgboost/xbg_model.joblib\")\n",
    "xgb_test_features = joblib.load(\"models/xgboost/test_features.joblib\")\n",
    "xgb_test_targets = joblib.load(\"models/xgboost/test_targets.joblib\")\n",
    "\n",
    "predict_and_score(xgb_model, xgb_test_features, xgb_test_targets)"
   ]
  },
  {
   "cell_type": "code",
   "execution_count": 11,
   "metadata": {},
   "outputs": [
    {
     "name": "stdout",
     "output_type": "stream",
     "text": [
      "\n",
      "Classification Report:\n",
      "              precision    recall  f1-score   support\n",
      "\n",
      "           0       0.84      0.94      0.89      4687\n",
      "           1       0.63      0.35      0.45      1313\n",
      "\n",
      "    accuracy                           0.81      6000\n",
      "   macro avg       0.73      0.65      0.67      6000\n",
      "weighted avg       0.79      0.81      0.79      6000\n",
      "\n",
      "ROC-AUC Score: 0.7101196760302312\n"
     ]
    }
   ],
   "source": [
    "nb = joblib.load(\"models/naive_bayes/naive_bayes_ensemble.joblib\")\n",
    "nb_test_features = joblib.load(\"models/naive_bayes/test_features.joblib\")\n",
    "nb_test_targets = joblib.load(\"models/naive_bayes/test_targets.joblib\")\n",
    "\n",
    "predict_and_score(nb, nb_test_features, nb_test_targets)"
   ]
  }
 ],
 "metadata": {
  "kernelspec": {
   "display_name": "credit_card_defaults_prediction",
   "language": "python",
   "name": "python3"
  },
  "language_info": {
   "codemirror_mode": {
    "name": "ipython",
    "version": 3
   },
   "file_extension": ".py",
   "mimetype": "text/x-python",
   "name": "python",
   "nbconvert_exporter": "python",
   "pygments_lexer": "ipython3",
   "version": "3.10.15"
  },
  "orig_nbformat": 4
 },
 "nbformat": 4,
 "nbformat_minor": 2
}
