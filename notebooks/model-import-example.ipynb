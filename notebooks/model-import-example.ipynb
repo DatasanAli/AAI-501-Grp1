{
 "cells": [
  {
   "cell_type": "code",
   "execution_count": 2,
   "metadata": {},
   "outputs": [
    {
     "name": "stdout",
     "output_type": "stream",
     "text": [
      "\n",
      "Classification Report:\n",
      "              precision    recall  f1-score   support\n",
      "\n",
      "           0       0.86      0.92      0.89      7060\n",
      "           1       0.60      0.44      0.51      1940\n",
      "\n",
      "    accuracy                           0.82      9000\n",
      "   macro avg       0.73      0.68      0.70      9000\n",
      "weighted avg       0.80      0.82      0.80      9000\n",
      "\n",
      "ROC-AUC Score: 0.7682076312023598\n"
     ]
    }
   ],
   "source": [
    "import joblib\n",
    "from util.model_eval import predict_and_score\n",
    "\n",
    "# Load the model from the file\n",
    "xgb_model = joblib.load('models/xgboost/xbg_model.joblib')\n",
    "test_features = joblib.load('models/xgboost/test_features.joblib')\n",
    "test_targets = joblib.load('models/xgboost/test_targets.joblib')\n",
    "\n",
    "predict_and_score(xgb_model, test_features, test_targets)"
   ]
  }
 ],
 "metadata": {
  "kernelspec": {
   "display_name": "Python 3",
   "language": "python",
   "name": "python3"
  },
  "language_info": {
   "codemirror_mode": {
    "name": "ipython",
    "version": 3
   },
   "file_extension": ".py",
   "mimetype": "text/x-python",
   "name": "python",
   "nbconvert_exporter": "python",
   "pygments_lexer": "ipython3",
   "version": "3.9.16"
  },
  "orig_nbformat": 4,
  "vscode": {
   "interpreter": {
    "hash": "9f21594391cbdefc16be5fad089d907e761ccb8b6b2baee74cd21c118061b9d8"
   }
  }
 },
 "nbformat": 4,
 "nbformat_minor": 2
}
