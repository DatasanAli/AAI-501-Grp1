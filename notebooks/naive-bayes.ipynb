{
 "cells": [
  {
   "cell_type": "code",
   "execution_count": 45,
   "metadata": {},
   "outputs": [],
   "source": [
    "import pandas as pd\n",
    "import numpy as np\n",
    "import matplotlib.pyplot as plt \n",
    "import seaborn as sns \n",
    "from sklearn.preprocessing import MinMaxScaler, StandardScaler\n",
    "from sklearn.ensemble import RandomForestClassifier\n",
    "from imblearn.over_sampling import KMeansSMOTE\n",
    "from sklearn.model_selection import train_test_split\n",
    "from sklearn.model_selection import KFold\n",
    "from sklearn.metrics import accuracy_score, classification_report\n",
    "from util.get_data import get_features_and_targets\n",
    "from sklearn.preprocessing import StandardScaler, OneHotEncoder\n",
    "from sklearn.compose import ColumnTransformer\n",
    "from sklearn.pipeline import Pipeline\n",
    "from sklearn.naive_bayes import GaussianNB, MultinomialNB"
   ]
  },
  {
   "cell_type": "code",
   "execution_count": 46,
   "metadata": {},
   "outputs": [
    {
     "name": "stdout",
     "output_type": "stream",
     "text": [
      "GENDER column transformed: [1 0]\n",
      "EDUCATION_LEVEL column transformed: [2 1 3 4]\n",
      "MARITAL_STATUS column transformed: [1 2 3]\n",
      "CREDIT_LIMIT: 167 outliers capped.\n",
      "AGE: 272 outliers capped.\n",
      "SEPT_BILL: 2400 outliers capped.\n",
      "AUG_BILL: 2395 outliers capped.\n",
      "JULY_BILL: 2469 outliers capped.\n",
      "JUNE_BILL: 2622 outliers capped.\n",
      "MAY_BILL: 2725 outliers capped.\n",
      "APRIL_BILL: 2693 outliers capped.\n",
      "SEPT_PAYMENT: 2745 outliers capped.\n",
      "AUG_PAYMENT: 2714 outliers capped.\n",
      "JULY_PAYMENT: 2598 outliers capped.\n",
      "JUNE_PAYMENT: 2994 outliers capped.\n",
      "MAY_PAYMENT: 2945 outliers capped.\n",
      "APRIL_PAYMENT: 2958 outliers capped.\n"
     ]
    }
   ],
   "source": [
    "X, y = get_features_and_targets()"
   ]
  },
  {
   "cell_type": "code",
   "execution_count": 47,
   "metadata": {},
   "outputs": [
    {
     "data": {
      "text/plain": [
       "pandas.core.frame.DataFrame"
      ]
     },
     "execution_count": 47,
     "metadata": {},
     "output_type": "execute_result"
    }
   ],
   "source": [
    "type(X)"
   ]
  },
  {
   "cell_type": "code",
   "execution_count": 48,
   "metadata": {},
   "outputs": [
    {
     "data": {
      "text/html": [
       "<div>\n",
       "<style scoped>\n",
       "    .dataframe tbody tr th:only-of-type {\n",
       "        vertical-align: middle;\n",
       "    }\n",
       "\n",
       "    .dataframe tbody tr th {\n",
       "        vertical-align: top;\n",
       "    }\n",
       "\n",
       "    .dataframe thead th {\n",
       "        text-align: right;\n",
       "    }\n",
       "</style>\n",
       "<table border=\"1\" class=\"dataframe\">\n",
       "  <thead>\n",
       "    <tr style=\"text-align: right;\">\n",
       "      <th></th>\n",
       "      <th>CREDIT_LIMIT</th>\n",
       "      <th>GENDER</th>\n",
       "      <th>EDUCATION_LEVEL</th>\n",
       "      <th>MARITAL_STATUS</th>\n",
       "      <th>AGE</th>\n",
       "      <th>SEPT_PAY_STATUS</th>\n",
       "      <th>AUG_PAY_STATUS</th>\n",
       "      <th>JULY_PAY_STATUS</th>\n",
       "      <th>JUNE_PAY_STATUS</th>\n",
       "      <th>MAY_PAY_STATUS</th>\n",
       "      <th>...</th>\n",
       "      <th>JULY_BILL</th>\n",
       "      <th>JUNE_BILL</th>\n",
       "      <th>MAY_BILL</th>\n",
       "      <th>APRIL_BILL</th>\n",
       "      <th>SEPT_PAYMENT</th>\n",
       "      <th>AUG_PAYMENT</th>\n",
       "      <th>JULY_PAYMENT</th>\n",
       "      <th>JUNE_PAYMENT</th>\n",
       "      <th>MAY_PAYMENT</th>\n",
       "      <th>APRIL_PAYMENT</th>\n",
       "    </tr>\n",
       "  </thead>\n",
       "  <tbody>\n",
       "    <tr>\n",
       "      <th>1</th>\n",
       "      <td>20000</td>\n",
       "      <td>1</td>\n",
       "      <td>2</td>\n",
       "      <td>1</td>\n",
       "      <td>24.0</td>\n",
       "      <td>2</td>\n",
       "      <td>2</td>\n",
       "      <td>-1</td>\n",
       "      <td>-1</td>\n",
       "      <td>-2</td>\n",
       "      <td>...</td>\n",
       "      <td>689.0</td>\n",
       "      <td>0.0</td>\n",
       "      <td>0.0</td>\n",
       "      <td>0.0</td>\n",
       "      <td>0</td>\n",
       "      <td>689.0</td>\n",
       "      <td>0.0</td>\n",
       "      <td>0.0</td>\n",
       "      <td>0</td>\n",
       "      <td>0.0</td>\n",
       "    </tr>\n",
       "    <tr>\n",
       "      <th>2</th>\n",
       "      <td>120000</td>\n",
       "      <td>1</td>\n",
       "      <td>2</td>\n",
       "      <td>2</td>\n",
       "      <td>26.0</td>\n",
       "      <td>-1</td>\n",
       "      <td>2</td>\n",
       "      <td>0</td>\n",
       "      <td>0</td>\n",
       "      <td>0</td>\n",
       "      <td>...</td>\n",
       "      <td>2682.0</td>\n",
       "      <td>3272.0</td>\n",
       "      <td>3455.0</td>\n",
       "      <td>3261.0</td>\n",
       "      <td>0</td>\n",
       "      <td>1000.0</td>\n",
       "      <td>1000.0</td>\n",
       "      <td>1000.0</td>\n",
       "      <td>0</td>\n",
       "      <td>2000.0</td>\n",
       "    </tr>\n",
       "    <tr>\n",
       "      <th>3</th>\n",
       "      <td>90000</td>\n",
       "      <td>1</td>\n",
       "      <td>2</td>\n",
       "      <td>2</td>\n",
       "      <td>34.0</td>\n",
       "      <td>0</td>\n",
       "      <td>0</td>\n",
       "      <td>0</td>\n",
       "      <td>0</td>\n",
       "      <td>0</td>\n",
       "      <td>...</td>\n",
       "      <td>13559.0</td>\n",
       "      <td>14331.0</td>\n",
       "      <td>14948.0</td>\n",
       "      <td>15549.0</td>\n",
       "      <td>1518</td>\n",
       "      <td>1500.0</td>\n",
       "      <td>1000.0</td>\n",
       "      <td>1000.0</td>\n",
       "      <td>1000</td>\n",
       "      <td>5000.0</td>\n",
       "    </tr>\n",
       "    <tr>\n",
       "      <th>4</th>\n",
       "      <td>50000</td>\n",
       "      <td>1</td>\n",
       "      <td>2</td>\n",
       "      <td>1</td>\n",
       "      <td>37.0</td>\n",
       "      <td>0</td>\n",
       "      <td>0</td>\n",
       "      <td>0</td>\n",
       "      <td>0</td>\n",
       "      <td>0</td>\n",
       "      <td>...</td>\n",
       "      <td>49291.0</td>\n",
       "      <td>28314.0</td>\n",
       "      <td>28959.0</td>\n",
       "      <td>29547.0</td>\n",
       "      <td>2000</td>\n",
       "      <td>2019.0</td>\n",
       "      <td>1200.0</td>\n",
       "      <td>1100.0</td>\n",
       "      <td>1069</td>\n",
       "      <td>1000.0</td>\n",
       "    </tr>\n",
       "    <tr>\n",
       "      <th>5</th>\n",
       "      <td>50000</td>\n",
       "      <td>0</td>\n",
       "      <td>2</td>\n",
       "      <td>1</td>\n",
       "      <td>57.0</td>\n",
       "      <td>-1</td>\n",
       "      <td>0</td>\n",
       "      <td>-1</td>\n",
       "      <td>0</td>\n",
       "      <td>0</td>\n",
       "      <td>...</td>\n",
       "      <td>35835.0</td>\n",
       "      <td>20940.0</td>\n",
       "      <td>19146.0</td>\n",
       "      <td>19131.0</td>\n",
       "      <td>2000</td>\n",
       "      <td>11250.5</td>\n",
       "      <td>10000.0</td>\n",
       "      <td>9000.0</td>\n",
       "      <td>689</td>\n",
       "      <td>679.0</td>\n",
       "    </tr>\n",
       "  </tbody>\n",
       "</table>\n",
       "<p>5 rows × 23 columns</p>\n",
       "</div>"
      ],
      "text/plain": [
       "   CREDIT_LIMIT  GENDER  EDUCATION_LEVEL  MARITAL_STATUS   AGE  \\\n",
       "1         20000       1                2               1  24.0   \n",
       "2        120000       1                2               2  26.0   \n",
       "3         90000       1                2               2  34.0   \n",
       "4         50000       1                2               1  37.0   \n",
       "5         50000       0                2               1  57.0   \n",
       "\n",
       "   SEPT_PAY_STATUS  AUG_PAY_STATUS  JULY_PAY_STATUS  JUNE_PAY_STATUS  \\\n",
       "1                2               2               -1               -1   \n",
       "2               -1               2                0                0   \n",
       "3                0               0                0                0   \n",
       "4                0               0                0                0   \n",
       "5               -1               0               -1                0   \n",
       "\n",
       "   MAY_PAY_STATUS  ...  JULY_BILL  JUNE_BILL  MAY_BILL  APRIL_BILL  \\\n",
       "1              -2  ...      689.0        0.0       0.0         0.0   \n",
       "2               0  ...     2682.0     3272.0    3455.0      3261.0   \n",
       "3               0  ...    13559.0    14331.0   14948.0     15549.0   \n",
       "4               0  ...    49291.0    28314.0   28959.0     29547.0   \n",
       "5               0  ...    35835.0    20940.0   19146.0     19131.0   \n",
       "\n",
       "   SEPT_PAYMENT  AUG_PAYMENT  JULY_PAYMENT  JUNE_PAYMENT  MAY_PAYMENT  \\\n",
       "1             0        689.0           0.0           0.0            0   \n",
       "2             0       1000.0        1000.0        1000.0            0   \n",
       "3          1518       1500.0        1000.0        1000.0         1000   \n",
       "4          2000       2019.0        1200.0        1100.0         1069   \n",
       "5          2000      11250.5       10000.0        9000.0          689   \n",
       "\n",
       "   APRIL_PAYMENT  \n",
       "1            0.0  \n",
       "2         2000.0  \n",
       "3         5000.0  \n",
       "4         1000.0  \n",
       "5          679.0  \n",
       "\n",
       "[5 rows x 23 columns]"
      ]
     },
     "execution_count": 48,
     "metadata": {},
     "output_type": "execute_result"
    }
   ],
   "source": [
    "X.head()"
   ]
  },
  {
   "cell_type": "code",
   "execution_count": 49,
   "metadata": {},
   "outputs": [
    {
     "name": "stderr",
     "output_type": "stream",
     "text": [
      "/Users/arecalde/anaconda3/envs/ds_course_lessons/lib/python3.12/site-packages/sklearn/cluster/_kmeans.py:1930: FutureWarning: The default value of `n_init` will change from 3 to 'auto' in 1.4. Set the value of `n_init` explicitly to suppress the warning\n",
      "  super()._check_params_vs_input(X, default_n_init=3)\n"
     ]
    },
    {
     "name": "stdout",
     "output_type": "stream",
     "text": [
      "Accuracy of GaussianNB model: 0.8073333333333333\n"
     ]
    },
    {
     "name": "stderr",
     "output_type": "stream",
     "text": [
      "/Users/arecalde/anaconda3/envs/ds_course_lessons/lib/python3.12/site-packages/sklearn/utils/validation.py:1184: DataConversionWarning: A column-vector y was passed when a 1d array was expected. Please change the shape of y to (n_samples, ), for example using ravel().\n",
      "  y = column_or_1d(y, warn=True)\n"
     ]
    }
   ],
   "source": [
    "from sklearn.compose import ColumnTransformer\n",
    "from sklearn.pipeline import Pipeline\n",
    "from sklearn.preprocessing import StandardScaler, OneHotEncoder, FunctionTransformer\n",
    "from sklearn.naive_bayes import GaussianNB\n",
    "from imblearn.over_sampling import KMeansSMOTE\n",
    "from imblearn.pipeline import Pipeline as ImbPipeline\n",
    "import numpy as np\n",
    "\n",
    "# Define the transformation for numeric features\n",
    "numeric_transformer = Pipeline(steps=[\n",
    "    ('scaler', StandardScaler())\n",
    "])\n",
    "\n",
    "# Define the transformation for categorical features\n",
    "categorical_transformer = Pipeline(steps=[\n",
    "    ('onehot', OneHotEncoder(handle_unknown='ignore', sparse_output=False))  # Ensure output is dense\n",
    "])\n",
    "\n",
    "# Combine transformations into a preprocessor\n",
    "preprocessor = ColumnTransformer(\n",
    "    transformers=[\n",
    "        ('num', numeric_transformer, numeric_features),\n",
    "        ('cat', categorical_transformer, categorical_features)\n",
    "    ], sparse_threshold=0)  # Ensures combined output is dense\n",
    "\n",
    "# Define an explicit transformation to convert array to dense\n",
    "def dense_transform(x):\n",
    "    if isinstance(x, np.ndarray):\n",
    "        return x\n",
    "    else:\n",
    "        return x.toarray()\n",
    "\n",
    "# Build the pipeline\n",
    "pipeline_gnb = ImbPipeline([\n",
    "    ('preprocessor', preprocessor),\n",
    "    ('to_dense', FunctionTransformer(dense_transform, accept_sparse=True)),  # Ensures data is dense\n",
    "    ('smote', KMeansSMOTE(random_state=0, k_neighbors=5, cluster_balance_threshold=0.1)),\n",
    "    ('classifier', GaussianNB())\n",
    "])\n",
    "\n",
    "# Now perform your train-test split\n",
    "X_train, X_test, y_train, y_test = train_test_split(X, y, test_size=0.2, random_state=42)\n",
    "\n",
    "# Fit and score the pipeline\n",
    "pipeline_gnb.fit(X_train, y_train)\n",
    "score = pipeline_gnb.score(X_test, y_test)\n",
    "print(f\"Accuracy of GaussianNB model: {score}\")\n"
   ]
  },
  {
   "cell_type": "code",
   "execution_count": 50,
   "metadata": {},
   "outputs": [],
   "source": [
    "# Pipeline components for GaussianNB\n",
    "numeric_transformer_gnb = Pipeline([\n",
    "    ('scaler', StandardScaler())\n",
    "])\n",
    "\n",
    "preprocessor_gnb = ColumnTransformer([\n",
    "    ('num', numeric_transformer_gnb, numeric_features)\n",
    "], remainder='drop')  # Drop categorical features for GaussianNB\n",
    "\n",
    "pipeline_gnb = ImbPipeline([\n",
    "    ('preprocessor', preprocessor),\n",
    "    ('to_dense', FunctionTransformer(dense_transform, accept_sparse=True)),  # Ensures data is dense\n",
    "    ('smote', KMeansSMOTE(random_state=0, k_neighbors=5, cluster_balance_threshold=0.1)),\n",
    "    ('classifier', GaussianNB())\n",
    "])"
   ]
  },
  {
   "cell_type": "code",
   "execution_count": 51,
   "metadata": {},
   "outputs": [],
   "source": [
    "# Pipeline components for MultinomialNB\n",
    "categorical_transformer_mnb = Pipeline([\n",
    "    ('onehot', OneHotEncoder(handle_unknown='ignore', sparse_output=False))  # Dense output for compatibility with SMOTE\n",
    "])\n",
    "\n",
    "preprocessor_mnb = ColumnTransformer([\n",
    "    ('cat', categorical_transformer_mnb, categorical_features)\n",
    "], remainder='drop')  # Drop numeric features for MultinomialNB\n",
    "\n",
    "pipeline_mnb = ImbPipeline([\n",
    "    ('preprocessor', preprocessor_mnb),\n",
    "    ('smote', KMeansSMOTE(random_state=0)),\n",
    "    ('classifier', MultinomialNB())\n",
    "])\n"
   ]
  },
  {
   "cell_type": "code",
   "execution_count": 52,
   "metadata": {},
   "outputs": [
    {
     "name": "stderr",
     "output_type": "stream",
     "text": [
      "/Users/arecalde/anaconda3/envs/ds_course_lessons/lib/python3.12/site-packages/sklearn/cluster/_kmeans.py:1930: FutureWarning: The default value of `n_init` will change from 3 to 'auto' in 1.4. Set the value of `n_init` explicitly to suppress the warning\n",
      "  super()._check_params_vs_input(X, default_n_init=3)\n",
      "/Users/arecalde/anaconda3/envs/ds_course_lessons/lib/python3.12/site-packages/sklearn/utils/validation.py:1184: DataConversionWarning: A column-vector y was passed when a 1d array was expected. Please change the shape of y to (n_samples, ), for example using ravel().\n",
      "  y = column_or_1d(y, warn=True)\n",
      "/Users/arecalde/anaconda3/envs/ds_course_lessons/lib/python3.12/site-packages/sklearn/cluster/_kmeans.py:1930: FutureWarning: The default value of `n_init` will change from 3 to 'auto' in 1.4. Set the value of `n_init` explicitly to suppress the warning\n",
      "  super()._check_params_vs_input(X, default_n_init=3)\n",
      "/Users/arecalde/anaconda3/envs/ds_course_lessons/lib/python3.12/site-packages/sklearn/utils/validation.py:1184: DataConversionWarning: A column-vector y was passed when a 1d array was expected. Please change the shape of y to (n_samples, ), for example using ravel().\n",
      "  y = column_or_1d(y, warn=True)\n"
     ]
    },
    {
     "data": {
      "text/html": [
       "<style>#sk-container-id-3 {color: black;}#sk-container-id-3 pre{padding: 0;}#sk-container-id-3 div.sk-toggleable {background-color: white;}#sk-container-id-3 label.sk-toggleable__label {cursor: pointer;display: block;width: 100%;margin-bottom: 0;padding: 0.3em;box-sizing: border-box;text-align: center;}#sk-container-id-3 label.sk-toggleable__label-arrow:before {content: \"▸\";float: left;margin-right: 0.25em;color: #696969;}#sk-container-id-3 label.sk-toggleable__label-arrow:hover:before {color: black;}#sk-container-id-3 div.sk-estimator:hover label.sk-toggleable__label-arrow:before {color: black;}#sk-container-id-3 div.sk-toggleable__content {max-height: 0;max-width: 0;overflow: hidden;text-align: left;background-color: #f0f8ff;}#sk-container-id-3 div.sk-toggleable__content pre {margin: 0.2em;color: black;border-radius: 0.25em;background-color: #f0f8ff;}#sk-container-id-3 input.sk-toggleable__control:checked~div.sk-toggleable__content {max-height: 200px;max-width: 100%;overflow: auto;}#sk-container-id-3 input.sk-toggleable__control:checked~label.sk-toggleable__label-arrow:before {content: \"▾\";}#sk-container-id-3 div.sk-estimator input.sk-toggleable__control:checked~label.sk-toggleable__label {background-color: #d4ebff;}#sk-container-id-3 div.sk-label input.sk-toggleable__control:checked~label.sk-toggleable__label {background-color: #d4ebff;}#sk-container-id-3 input.sk-hidden--visually {border: 0;clip: rect(1px 1px 1px 1px);clip: rect(1px, 1px, 1px, 1px);height: 1px;margin: -1px;overflow: hidden;padding: 0;position: absolute;width: 1px;}#sk-container-id-3 div.sk-estimator {font-family: monospace;background-color: #f0f8ff;border: 1px dotted black;border-radius: 0.25em;box-sizing: border-box;margin-bottom: 0.5em;}#sk-container-id-3 div.sk-estimator:hover {background-color: #d4ebff;}#sk-container-id-3 div.sk-parallel-item::after {content: \"\";width: 100%;border-bottom: 1px solid gray;flex-grow: 1;}#sk-container-id-3 div.sk-label:hover label.sk-toggleable__label {background-color: #d4ebff;}#sk-container-id-3 div.sk-serial::before {content: \"\";position: absolute;border-left: 1px solid gray;box-sizing: border-box;top: 0;bottom: 0;left: 50%;z-index: 0;}#sk-container-id-3 div.sk-serial {display: flex;flex-direction: column;align-items: center;background-color: white;padding-right: 0.2em;padding-left: 0.2em;position: relative;}#sk-container-id-3 div.sk-item {position: relative;z-index: 1;}#sk-container-id-3 div.sk-parallel {display: flex;align-items: stretch;justify-content: center;background-color: white;position: relative;}#sk-container-id-3 div.sk-item::before, #sk-container-id-3 div.sk-parallel-item::before {content: \"\";position: absolute;border-left: 1px solid gray;box-sizing: border-box;top: 0;bottom: 0;left: 50%;z-index: -1;}#sk-container-id-3 div.sk-parallel-item {display: flex;flex-direction: column;z-index: 1;position: relative;background-color: white;}#sk-container-id-3 div.sk-parallel-item:first-child::after {align-self: flex-end;width: 50%;}#sk-container-id-3 div.sk-parallel-item:last-child::after {align-self: flex-start;width: 50%;}#sk-container-id-3 div.sk-parallel-item:only-child::after {width: 0;}#sk-container-id-3 div.sk-dashed-wrapped {border: 1px dashed gray;margin: 0 0.4em 0.5em 0.4em;box-sizing: border-box;padding-bottom: 0.4em;background-color: white;}#sk-container-id-3 div.sk-label label {font-family: monospace;font-weight: bold;display: inline-block;line-height: 1.2em;}#sk-container-id-3 div.sk-label-container {text-align: center;}#sk-container-id-3 div.sk-container {/* jupyter's `normalize.less` sets `[hidden] { display: none; }` but bootstrap.min.css set `[hidden] { display: none !important; }` so we also need the `!important` here to be able to override the default hidden behavior on the sphinx rendered scikit-learn.org. See: https://github.com/scikit-learn/scikit-learn/issues/21755 */display: inline-block !important;position: relative;}#sk-container-id-3 div.sk-text-repr-fallback {display: none;}</style><div id=\"sk-container-id-3\" class=\"sk-top-container\"><div class=\"sk-text-repr-fallback\"><pre>Pipeline(steps=[(&#x27;preprocessor&#x27;,\n",
       "                 ColumnTransformer(transformers=[(&#x27;cat&#x27;,\n",
       "                                                  Pipeline(steps=[(&#x27;onehot&#x27;,\n",
       "                                                                   OneHotEncoder(handle_unknown=&#x27;ignore&#x27;,\n",
       "                                                                                 sparse_output=False))]),\n",
       "                                                  [&#x27;GENDER&#x27;, &#x27;EDUCATION_LEVEL&#x27;,\n",
       "                                                   &#x27;MARITAL_STATUS&#x27;,\n",
       "                                                   &#x27;SEPT_PAY_STATUS&#x27;,\n",
       "                                                   &#x27;AUG_PAY_STATUS&#x27;,\n",
       "                                                   &#x27;JULY_PAY_STATUS&#x27;,\n",
       "                                                   &#x27;JUNE_PAY_STATUS&#x27;,\n",
       "                                                   &#x27;MAY_PAY_STATUS&#x27;,\n",
       "                                                   &#x27;APRIL_PAY_STATUS&#x27;])])),\n",
       "                (&#x27;smote&#x27;, KMeansSMOTE(random_state=0)),\n",
       "                (&#x27;classifier&#x27;, MultinomialNB())])</pre><b>In a Jupyter environment, please rerun this cell to show the HTML representation or trust the notebook. <br />On GitHub, the HTML representation is unable to render, please try loading this page with nbviewer.org.</b></div><div class=\"sk-container\" hidden><div class=\"sk-item sk-dashed-wrapped\"><div class=\"sk-label-container\"><div class=\"sk-label sk-toggleable\"><input class=\"sk-toggleable__control sk-hidden--visually\" id=\"sk-estimator-id-13\" type=\"checkbox\" ><label for=\"sk-estimator-id-13\" class=\"sk-toggleable__label sk-toggleable__label-arrow\">Pipeline</label><div class=\"sk-toggleable__content\"><pre>Pipeline(steps=[(&#x27;preprocessor&#x27;,\n",
       "                 ColumnTransformer(transformers=[(&#x27;cat&#x27;,\n",
       "                                                  Pipeline(steps=[(&#x27;onehot&#x27;,\n",
       "                                                                   OneHotEncoder(handle_unknown=&#x27;ignore&#x27;,\n",
       "                                                                                 sparse_output=False))]),\n",
       "                                                  [&#x27;GENDER&#x27;, &#x27;EDUCATION_LEVEL&#x27;,\n",
       "                                                   &#x27;MARITAL_STATUS&#x27;,\n",
       "                                                   &#x27;SEPT_PAY_STATUS&#x27;,\n",
       "                                                   &#x27;AUG_PAY_STATUS&#x27;,\n",
       "                                                   &#x27;JULY_PAY_STATUS&#x27;,\n",
       "                                                   &#x27;JUNE_PAY_STATUS&#x27;,\n",
       "                                                   &#x27;MAY_PAY_STATUS&#x27;,\n",
       "                                                   &#x27;APRIL_PAY_STATUS&#x27;])])),\n",
       "                (&#x27;smote&#x27;, KMeansSMOTE(random_state=0)),\n",
       "                (&#x27;classifier&#x27;, MultinomialNB())])</pre></div></div></div><div class=\"sk-serial\"><div class=\"sk-item sk-dashed-wrapped\"><div class=\"sk-label-container\"><div class=\"sk-label sk-toggleable\"><input class=\"sk-toggleable__control sk-hidden--visually\" id=\"sk-estimator-id-14\" type=\"checkbox\" ><label for=\"sk-estimator-id-14\" class=\"sk-toggleable__label sk-toggleable__label-arrow\">preprocessor: ColumnTransformer</label><div class=\"sk-toggleable__content\"><pre>ColumnTransformer(transformers=[(&#x27;cat&#x27;,\n",
       "                                 Pipeline(steps=[(&#x27;onehot&#x27;,\n",
       "                                                  OneHotEncoder(handle_unknown=&#x27;ignore&#x27;,\n",
       "                                                                sparse_output=False))]),\n",
       "                                 [&#x27;GENDER&#x27;, &#x27;EDUCATION_LEVEL&#x27;, &#x27;MARITAL_STATUS&#x27;,\n",
       "                                  &#x27;SEPT_PAY_STATUS&#x27;, &#x27;AUG_PAY_STATUS&#x27;,\n",
       "                                  &#x27;JULY_PAY_STATUS&#x27;, &#x27;JUNE_PAY_STATUS&#x27;,\n",
       "                                  &#x27;MAY_PAY_STATUS&#x27;, &#x27;APRIL_PAY_STATUS&#x27;])])</pre></div></div></div><div class=\"sk-parallel\"><div class=\"sk-parallel-item\"><div class=\"sk-item\"><div class=\"sk-label-container\"><div class=\"sk-label sk-toggleable\"><input class=\"sk-toggleable__control sk-hidden--visually\" id=\"sk-estimator-id-15\" type=\"checkbox\" ><label for=\"sk-estimator-id-15\" class=\"sk-toggleable__label sk-toggleable__label-arrow\">cat</label><div class=\"sk-toggleable__content\"><pre>[&#x27;GENDER&#x27;, &#x27;EDUCATION_LEVEL&#x27;, &#x27;MARITAL_STATUS&#x27;, &#x27;SEPT_PAY_STATUS&#x27;, &#x27;AUG_PAY_STATUS&#x27;, &#x27;JULY_PAY_STATUS&#x27;, &#x27;JUNE_PAY_STATUS&#x27;, &#x27;MAY_PAY_STATUS&#x27;, &#x27;APRIL_PAY_STATUS&#x27;]</pre></div></div></div><div class=\"sk-serial\"><div class=\"sk-item\"><div class=\"sk-serial\"><div class=\"sk-item\"><div class=\"sk-estimator sk-toggleable\"><input class=\"sk-toggleable__control sk-hidden--visually\" id=\"sk-estimator-id-16\" type=\"checkbox\" ><label for=\"sk-estimator-id-16\" class=\"sk-toggleable__label sk-toggleable__label-arrow\">OneHotEncoder</label><div class=\"sk-toggleable__content\"><pre>OneHotEncoder(handle_unknown=&#x27;ignore&#x27;, sparse_output=False)</pre></div></div></div></div></div></div></div></div></div></div><div class=\"sk-item\"><div class=\"sk-estimator sk-toggleable\"><input class=\"sk-toggleable__control sk-hidden--visually\" id=\"sk-estimator-id-17\" type=\"checkbox\" ><label for=\"sk-estimator-id-17\" class=\"sk-toggleable__label sk-toggleable__label-arrow\">KMeansSMOTE</label><div class=\"sk-toggleable__content\"><pre>KMeansSMOTE(random_state=0)</pre></div></div></div><div class=\"sk-item\"><div class=\"sk-estimator sk-toggleable\"><input class=\"sk-toggleable__control sk-hidden--visually\" id=\"sk-estimator-id-18\" type=\"checkbox\" ><label for=\"sk-estimator-id-18\" class=\"sk-toggleable__label sk-toggleable__label-arrow\">MultinomialNB</label><div class=\"sk-toggleable__content\"><pre>MultinomialNB()</pre></div></div></div></div></div></div></div>"
      ],
      "text/plain": [
       "Pipeline(steps=[('preprocessor',\n",
       "                 ColumnTransformer(transformers=[('cat',\n",
       "                                                  Pipeline(steps=[('onehot',\n",
       "                                                                   OneHotEncoder(handle_unknown='ignore',\n",
       "                                                                                 sparse_output=False))]),\n",
       "                                                  ['GENDER', 'EDUCATION_LEVEL',\n",
       "                                                   'MARITAL_STATUS',\n",
       "                                                   'SEPT_PAY_STATUS',\n",
       "                                                   'AUG_PAY_STATUS',\n",
       "                                                   'JULY_PAY_STATUS',\n",
       "                                                   'JUNE_PAY_STATUS',\n",
       "                                                   'MAY_PAY_STATUS',\n",
       "                                                   'APRIL_PAY_STATUS'])])),\n",
       "                ('smote', KMeansSMOTE(random_state=0)),\n",
       "                ('classifier', MultinomialNB())])"
      ]
     },
     "execution_count": 52,
     "metadata": {},
     "output_type": "execute_result"
    }
   ],
   "source": [
    "from sklearn.model_selection import train_test_split\n",
    "\n",
    "# Perform the train-test split\n",
    "X_train, X_test, y_train, y_test = train_test_split(X, y, test_size=0.2, random_state=42)\n",
    "\n",
    "# Train both pipelines\n",
    "pipeline_gnb.fit(X_train, y_train)\n",
    "pipeline_mnb.fit(X_train, y_train)\n"
   ]
  },
  {
   "cell_type": "code",
   "execution_count": 53,
   "metadata": {},
   "outputs": [
    {
     "name": "stdout",
     "output_type": "stream",
     "text": [
      "Combined Accuracy of GaussianNB and MultinomialNB: 0.8098333333333333\n"
     ]
    }
   ],
   "source": [
    "import numpy as np\n",
    "\n",
    "# Get probability predictions\n",
    "probs_gnb = pipeline_gnb.predict_proba(X_test)\n",
    "probs_mnb = pipeline_mnb.predict_proba(X_test)\n",
    "\n",
    "# Average the probabilities from both models\n",
    "avg_probs = (probs_gnb + probs_mnb) / 2\n",
    "\n",
    "# Make final predictions based on the average probabilities\n",
    "final_predictions = np.argmax(avg_probs, axis=1)\n",
    "\n",
    "# Evaluate the combined model\n",
    "from sklearn.metrics import accuracy_score\n",
    "accuracy = accuracy_score(y_test, final_predictions)\n",
    "print(f\"Combined Accuracy of GaussianNB and MultinomialNB: {accuracy}\")\n"
   ]
  },
  {
   "cell_type": "code",
   "execution_count": 54,
   "metadata": {},
   "outputs": [
    {
     "name": "stdout",
     "output_type": "stream",
     "text": [
      "Fold 1:\n",
      "  Training indices: [0 1 2 3 5]... (24000 samples)\n",
      "  Validation indices: [ 4  6  7 18 22]... (6000 samples)\n",
      "Fold 2:\n",
      "  Training indices: [0 1 2 3 4]... (24000 samples)\n",
      "  Validation indices: [ 8  9 12 16 17]... (6000 samples)\n",
      "Fold 3:\n",
      "  Training indices: [4 6 7 8 9]... (24000 samples)\n",
      "  Validation indices: [0 1 2 3 5]... (6000 samples)\n",
      "Fold 4:\n",
      "  Training indices: [0 1 2 3 4]... (24000 samples)\n",
      "  Validation indices: [11 21 23 24 26]... (6000 samples)\n",
      "Fold 5:\n",
      "  Training indices: [0 1 2 3 4]... (24000 samples)\n",
      "  Validation indices: [10 13 19 28 40]... (6000 samples)\n"
     ]
    }
   ],
   "source": [
    "n_splits = 5\n",
    "kf = KFold(n_splits=n_splits, shuffle=True, random_state=0)\n",
    "\n",
    "# Initialize lists to store indices for each fold\n",
    "train_indices = []\n",
    "validation_indices = []\n",
    "\n",
    "# Split data into folds\n",
    "for fold, (train_idx, val_idx) in enumerate(kf.split(X)):\n",
    "    train_indices.append(train_idx)\n",
    "    validation_indices.append(val_idx)\n",
    "    print(f\"Fold {fold + 1}:\")\n",
    "    print(f\"  Training indices: {train_idx[:5]}... ({len(train_idx)} samples)\")\n",
    "    print(f\"  Validation indices: {val_idx[:5]}... ({len(val_idx)} samples)\")"
   ]
  },
  {
   "cell_type": "code",
   "execution_count": 55,
   "metadata": {},
   "outputs": [
    {
     "name": "stderr",
     "output_type": "stream",
     "text": [
      "/Users/arecalde/anaconda3/envs/ds_course_lessons/lib/python3.12/site-packages/sklearn/cluster/_kmeans.py:1930: FutureWarning: The default value of `n_init` will change from 3 to 'auto' in 1.4. Set the value of `n_init` explicitly to suppress the warning\n",
      "  super()._check_params_vs_input(X, default_n_init=3)\n"
     ]
    },
    {
     "name": "stdout",
     "output_type": "stream",
     "text": [
      "\n",
      "Fold 1/5\n"
     ]
    },
    {
     "name": "stderr",
     "output_type": "stream",
     "text": [
      "/Users/arecalde/anaconda3/envs/ds_course_lessons/lib/python3.12/site-packages/sklearn/cluster/_kmeans.py:1930: FutureWarning: The default value of `n_init` will change from 3 to 'auto' in 1.4. Set the value of `n_init` explicitly to suppress the warning\n",
      "  super()._check_params_vs_input(X, default_n_init=3)\n"
     ]
    },
    {
     "name": "stdout",
     "output_type": "stream",
     "text": [
      "Training Accuracy for current fold: 0.81\n",
      "Validation Accuracy for current fold: 0.81\n",
      "\n",
      "Fold 2/5\n"
     ]
    },
    {
     "name": "stderr",
     "output_type": "stream",
     "text": [
      "/Users/arecalde/anaconda3/envs/ds_course_lessons/lib/python3.12/site-packages/sklearn/cluster/_kmeans.py:1930: FutureWarning: The default value of `n_init` will change from 3 to 'auto' in 1.4. Set the value of `n_init` explicitly to suppress the warning\n",
      "  super()._check_params_vs_input(X, default_n_init=3)\n",
      "/Users/arecalde/anaconda3/envs/ds_course_lessons/lib/python3.12/site-packages/sklearn/cluster/_kmeans.py:1930: FutureWarning: The default value of `n_init` will change from 3 to 'auto' in 1.4. Set the value of `n_init` explicitly to suppress the warning\n",
      "  super()._check_params_vs_input(X, default_n_init=3)\n"
     ]
    },
    {
     "name": "stdout",
     "output_type": "stream",
     "text": [
      "Training Accuracy for current fold: 0.80\n",
      "Validation Accuracy for current fold: 0.81\n",
      "\n",
      "Fold 3/5\n"
     ]
    },
    {
     "name": "stderr",
     "output_type": "stream",
     "text": [
      "/Users/arecalde/anaconda3/envs/ds_course_lessons/lib/python3.12/site-packages/sklearn/cluster/_kmeans.py:1930: FutureWarning: The default value of `n_init` will change from 3 to 'auto' in 1.4. Set the value of `n_init` explicitly to suppress the warning\n",
      "  super()._check_params_vs_input(X, default_n_init=3)\n",
      "/Users/arecalde/anaconda3/envs/ds_course_lessons/lib/python3.12/site-packages/sklearn/cluster/_kmeans.py:1930: FutureWarning: The default value of `n_init` will change from 3 to 'auto' in 1.4. Set the value of `n_init` explicitly to suppress the warning\n",
      "  super()._check_params_vs_input(X, default_n_init=3)\n"
     ]
    },
    {
     "name": "stdout",
     "output_type": "stream",
     "text": [
      "Training Accuracy for current fold: 0.80\n",
      "Validation Accuracy for current fold: 0.82\n",
      "\n",
      "Fold 4/5\n"
     ]
    },
    {
     "name": "stderr",
     "output_type": "stream",
     "text": [
      "/Users/arecalde/anaconda3/envs/ds_course_lessons/lib/python3.12/site-packages/sklearn/cluster/_kmeans.py:1930: FutureWarning: The default value of `n_init` will change from 3 to 'auto' in 1.4. Set the value of `n_init` explicitly to suppress the warning\n",
      "  super()._check_params_vs_input(X, default_n_init=3)\n",
      "/Users/arecalde/anaconda3/envs/ds_course_lessons/lib/python3.12/site-packages/sklearn/cluster/_kmeans.py:1930: FutureWarning: The default value of `n_init` will change from 3 to 'auto' in 1.4. Set the value of `n_init` explicitly to suppress the warning\n",
      "  super()._check_params_vs_input(X, default_n_init=3)\n"
     ]
    },
    {
     "name": "stdout",
     "output_type": "stream",
     "text": [
      "Training Accuracy for current fold: 0.80\n",
      "Validation Accuracy for current fold: 0.79\n",
      "\n",
      "Fold 5/5\n"
     ]
    },
    {
     "name": "stderr",
     "output_type": "stream",
     "text": [
      "/Users/arecalde/anaconda3/envs/ds_course_lessons/lib/python3.12/site-packages/sklearn/cluster/_kmeans.py:1930: FutureWarning: The default value of `n_init` will change from 3 to 'auto' in 1.4. Set the value of `n_init` explicitly to suppress the warning\n",
      "  super()._check_params_vs_input(X, default_n_init=3)\n",
      "/Users/arecalde/anaconda3/envs/ds_course_lessons/lib/python3.12/site-packages/sklearn/cluster/_kmeans.py:1930: FutureWarning: The default value of `n_init` will change from 3 to 'auto' in 1.4. Set the value of `n_init` explicitly to suppress the warning\n",
      "  super()._check_params_vs_input(X, default_n_init=3)\n"
     ]
    },
    {
     "name": "stdout",
     "output_type": "stream",
     "text": [
      "Training Accuracy for current fold: 0.81\n",
      "Validation Accuracy for current fold: 0.81\n",
      "\n",
      "K-Fold Cross-Validation Results for Ensemble Naive Bayes Model:\n",
      "Average Training Accuracy: 0.80\n",
      "Average Validation Accuracy: 0.81\n"
     ]
    }
   ],
   "source": [
    "from sklearn.metrics import accuracy_score\n",
    "import numpy as np\n",
    "from sklearn.model_selection import KFold\n",
    "\n",
    "# Assuming X and y are your complete dataset\n",
    "n_splits = 5\n",
    "kf = KFold(n_splits=n_splits, shuffle=True, random_state=42)\n",
    "\n",
    "# Store scores for averaging\n",
    "train_scores = []\n",
    "validation_scores = []\n",
    "\n",
    "for fold, (train_idx, val_idx) in enumerate(kf.split(X)):\n",
    "    print(f\"\\nFold {fold + 1}/{n_splits}\")\n",
    "\n",
    "    # Split dataset into training and validation sets\n",
    "    X_train, X_val = X.iloc[train_idx], X.iloc[val_idx]\n",
    "    y_train, y_val = y.iloc[train_idx], y.iloc[val_idx]\n",
    "    \n",
    "    # Ensure y_train and y_val are 1-dimensional if y is a DataFrame with a single target column\n",
    "    # These will convert DataFrame columns to 1D numpy arrays\n",
    "    y_train = y_train.squeeze().values\n",
    "    y_val = y_val.squeeze().values\n",
    "\n",
    "    # Fit both pipelines on the training data\n",
    "    pipeline_gnb.fit(X_train, y_train)\n",
    "    pipeline_mnb.fit(X_train, y_train)\n",
    "\n",
    "    # Predict on the training data\n",
    "    y_train_pred_gnb = pipeline_gnb.predict(X_train)\n",
    "    y_train_pred_mnb = pipeline_mnb.predict(X_train)\n",
    "\n",
    "    # Average the training predictions\n",
    "    avg_train_predictions = (y_train_pred_gnb + y_train_pred_mnb) / 2\n",
    "    avg_train_predictions = np.round(avg_train_predictions).astype(int)  # Convert averages to discrete class predictions\n",
    "\n",
    "    # Compute training accuracy\n",
    "    train_accuracy = accuracy_score(y_train, avg_train_predictions)\n",
    "    train_scores.append(train_accuracy)\n",
    "\n",
    "    # Predict probabilities on the validation set and combine predictions\n",
    "    probs_gnb = pipeline_gnb.predict_proba(X_val)\n",
    "    probs_mnb = pipeline_mnb.predict_proba(X_val)\n",
    "    avg_probs = (probs_gnb + probs_mnb) / 2\n",
    "    final_predictions = np.argmax(avg_probs, axis=1)\n",
    "\n",
    "    # Compute and append validation accuracy\n",
    "    validation_accuracy = accuracy_score(y_val, final_predictions)\n",
    "    validation_scores.append(validation_accuracy)\n",
    "\n",
    "    print(f\"Training Accuracy for current fold: {train_accuracy:.2f}\")\n",
    "    print(f\"Validation Accuracy for current fold: {validation_accuracy:.2f}\")\n",
    "\n",
    "# Calculate average scores across all folds\n",
    "average_train_score = np.mean(train_scores)\n",
    "average_val_score = np.mean(validation_scores)\n",
    "\n",
    "print(\"\\nK-Fold Cross-Validation Results for Ensemble Naive Bayes Model:\")\n",
    "print(f\"Average Training Accuracy: {average_train_score:.2f}\")\n",
    "print(f\"Average Validation Accuracy: {average_val_score:.2f}\")\n"
   ]
  },
  {
   "cell_type": "code",
   "execution_count": 56,
   "metadata": {},
   "outputs": [
    {
     "name": "stdout",
     "output_type": "stream",
     "text": [
      "\n",
      "Fold 1/5\n"
     ]
    },
    {
     "name": "stderr",
     "output_type": "stream",
     "text": [
      "/Users/arecalde/anaconda3/envs/ds_course_lessons/lib/python3.12/site-packages/sklearn/cluster/_kmeans.py:1930: FutureWarning: The default value of `n_init` will change from 3 to 'auto' in 1.4. Set the value of `n_init` explicitly to suppress the warning\n",
      "  super()._check_params_vs_input(X, default_n_init=3)\n",
      "/Users/arecalde/anaconda3/envs/ds_course_lessons/lib/python3.12/site-packages/sklearn/cluster/_kmeans.py:1930: FutureWarning: The default value of `n_init` will change from 3 to 'auto' in 1.4. Set the value of `n_init` explicitly to suppress the warning\n",
      "  super()._check_params_vs_input(X, default_n_init=3)\n"
     ]
    },
    {
     "name": "stdout",
     "output_type": "stream",
     "text": [
      "GNB Training Accuracy: 0.81, Validation Accuracy: 0.81\n",
      "MNB Training Accuracy: 0.80, Validation Accuracy: 0.80\n",
      "Ensemble Training Accuracy: 0.81, Validation Accuracy: 0.81\n",
      "\n",
      "Fold 2/5\n"
     ]
    },
    {
     "name": "stderr",
     "output_type": "stream",
     "text": [
      "/Users/arecalde/anaconda3/envs/ds_course_lessons/lib/python3.12/site-packages/sklearn/cluster/_kmeans.py:1930: FutureWarning: The default value of `n_init` will change from 3 to 'auto' in 1.4. Set the value of `n_init` explicitly to suppress the warning\n",
      "  super()._check_params_vs_input(X, default_n_init=3)\n",
      "/Users/arecalde/anaconda3/envs/ds_course_lessons/lib/python3.12/site-packages/sklearn/cluster/_kmeans.py:1930: FutureWarning: The default value of `n_init` will change from 3 to 'auto' in 1.4. Set the value of `n_init` explicitly to suppress the warning\n",
      "  super()._check_params_vs_input(X, default_n_init=3)\n"
     ]
    },
    {
     "name": "stdout",
     "output_type": "stream",
     "text": [
      "GNB Training Accuracy: 0.80, Validation Accuracy: 0.80\n",
      "MNB Training Accuracy: 0.80, Validation Accuracy: 0.80\n",
      "Ensemble Training Accuracy: 0.80, Validation Accuracy: 0.81\n",
      "\n",
      "Fold 3/5\n"
     ]
    },
    {
     "name": "stderr",
     "output_type": "stream",
     "text": [
      "/Users/arecalde/anaconda3/envs/ds_course_lessons/lib/python3.12/site-packages/sklearn/cluster/_kmeans.py:1930: FutureWarning: The default value of `n_init` will change from 3 to 'auto' in 1.4. Set the value of `n_init` explicitly to suppress the warning\n",
      "  super()._check_params_vs_input(X, default_n_init=3)\n",
      "/Users/arecalde/anaconda3/envs/ds_course_lessons/lib/python3.12/site-packages/sklearn/cluster/_kmeans.py:1930: FutureWarning: The default value of `n_init` will change from 3 to 'auto' in 1.4. Set the value of `n_init` explicitly to suppress the warning\n",
      "  super()._check_params_vs_input(X, default_n_init=3)\n"
     ]
    },
    {
     "name": "stdout",
     "output_type": "stream",
     "text": [
      "GNB Training Accuracy: 0.80, Validation Accuracy: 0.81\n",
      "MNB Training Accuracy: 0.80, Validation Accuracy: 0.81\n",
      "Ensemble Training Accuracy: 0.80, Validation Accuracy: 0.82\n",
      "\n",
      "Fold 4/5\n"
     ]
    },
    {
     "name": "stderr",
     "output_type": "stream",
     "text": [
      "/Users/arecalde/anaconda3/envs/ds_course_lessons/lib/python3.12/site-packages/sklearn/cluster/_kmeans.py:1930: FutureWarning: The default value of `n_init` will change from 3 to 'auto' in 1.4. Set the value of `n_init` explicitly to suppress the warning\n",
      "  super()._check_params_vs_input(X, default_n_init=3)\n",
      "/Users/arecalde/anaconda3/envs/ds_course_lessons/lib/python3.12/site-packages/sklearn/cluster/_kmeans.py:1930: FutureWarning: The default value of `n_init` will change from 3 to 'auto' in 1.4. Set the value of `n_init` explicitly to suppress the warning\n",
      "  super()._check_params_vs_input(X, default_n_init=3)\n"
     ]
    },
    {
     "name": "stdout",
     "output_type": "stream",
     "text": [
      "GNB Training Accuracy: 0.80, Validation Accuracy: 0.79\n",
      "MNB Training Accuracy: 0.81, Validation Accuracy: 0.80\n",
      "Ensemble Training Accuracy: 0.80, Validation Accuracy: 0.79\n",
      "\n",
      "Fold 5/5\n"
     ]
    },
    {
     "name": "stderr",
     "output_type": "stream",
     "text": [
      "/Users/arecalde/anaconda3/envs/ds_course_lessons/lib/python3.12/site-packages/sklearn/cluster/_kmeans.py:1930: FutureWarning: The default value of `n_init` will change from 3 to 'auto' in 1.4. Set the value of `n_init` explicitly to suppress the warning\n",
      "  super()._check_params_vs_input(X, default_n_init=3)\n",
      "/Users/arecalde/anaconda3/envs/ds_course_lessons/lib/python3.12/site-packages/sklearn/cluster/_kmeans.py:1930: FutureWarning: The default value of `n_init` will change from 3 to 'auto' in 1.4. Set the value of `n_init` explicitly to suppress the warning\n",
      "  super()._check_params_vs_input(X, default_n_init=3)\n"
     ]
    },
    {
     "name": "stdout",
     "output_type": "stream",
     "text": [
      "GNB Training Accuracy: 0.81, Validation Accuracy: 0.80\n",
      "MNB Training Accuracy: 0.81, Validation Accuracy: 0.80\n",
      "Ensemble Training Accuracy: 0.81, Validation Accuracy: 0.81\n",
      "\n",
      "Final K-Fold Cross-Validation Results:\n",
      "GNB Average Training Accuracy: 0.80, Average Validation Accuracy: 0.80\n",
      "MNB Average Training Accuracy: 0.80, Average Validation Accuracy: 0.80\n",
      "Ensemble Average Training Accuracy: 0.80, Average Validation Accuracy: 0.81\n"
     ]
    }
   ],
   "source": [
    "from sklearn.metrics import accuracy_score\n",
    "import numpy as np\n",
    "from sklearn.model_selection import KFold\n",
    "\n",
    "# Assuming X and y are the complete datasets\n",
    "n_splits = 5\n",
    "kf = KFold(n_splits=n_splits, shuffle=True, random_state=42)\n",
    "\n",
    "# Store scores for averaging\n",
    "gnb_train_scores = []\n",
    "gnb_validation_scores = []\n",
    "mnb_train_scores = []\n",
    "mnb_validation_scores = []\n",
    "\n",
    "ensemble_train_scores = []\n",
    "ensemble_validation_scores = []\n",
    "\n",
    "for fold, (train_idx, val_idx) in enumerate(kf.split(X)):\n",
    "    print(f\"\\nFold {fold + 1}/{n_splits}\")\n",
    "\n",
    "    # Split dataset into training and validation sets\n",
    "    X_train, X_val = X.iloc[train_idx], X.iloc[val_idx]\n",
    "    y_train, y_val = y.iloc[train_idx].squeeze().values, y.iloc[val_idx].squeeze().values\n",
    "\n",
    "    # Fit both pipelines on the training data\n",
    "    pipeline_gnb.fit(X_train, y_train)\n",
    "    pipeline_mnb.fit(X_train, y_train)\n",
    "\n",
    "    # Predict on the training data\n",
    "    y_train_pred_gnb = pipeline_gnb.predict(X_train)\n",
    "    y_train_pred_mnb = pipeline_mnb.predict(X_train)\n",
    "\n",
    "    # Calculate individual training accuracies\n",
    "    gnb_train_accuracy = accuracy_score(y_train, y_train_pred_gnb)\n",
    "    mnb_train_accuracy = accuracy_score(y_train, y_train_pred_mnb)\n",
    "    gnb_train_scores.append(gnb_train_accuracy)\n",
    "    mnb_train_scores.append(mnb_train_accuracy)\n",
    "\n",
    "    # Average the training predictions for ensemble\n",
    "    avg_train_predictions = (y_train_pred_gnb + y_train_pred_mnb) / 2\n",
    "    avg_train_predictions = np.round(avg_train_predictions).astype(int)\n",
    "    ensemble_train_accuracy = accuracy_score(y_train, avg_train_predictions)\n",
    "    ensemble_train_scores.append(ensemble_train_accuracy)\n",
    "\n",
    "    # Predict probabilities on the validation set\n",
    "    probs_gnb = pipeline_gnb.predict_proba(X_val)\n",
    "    probs_mnb = pipeline_mnb.predict_proba(X_val)\n",
    "    \n",
    "    # Calculate individual validation accuracies\n",
    "    y_val_pred_gnb = np.argmax(probs_gnb, axis=1)\n",
    "    y_val_pred_mnb = np.argmax(probs_mnb, axis=1)\n",
    "    gnb_val_accuracy = accuracy_score(y_val, y_val_pred_gnb)\n",
    "    mnb_val_accuracy = accuracy_score(y_val, y_val_pred_mnb)\n",
    "    gnb_validation_scores.append(gnb_val_accuracy)\n",
    "    mnb_validation_scores.append(mnb_val_accuracy)\n",
    "    \n",
    "    # Average the validation probabilities for ensemble\n",
    "    avg_probs = (probs_gnb + probs_mnb) / 2\n",
    "    final_predictions = np.argmax(avg_probs, axis=1)\n",
    "    ensemble_validation_accuracy = accuracy_score(y_val, final_predictions)\n",
    "    ensemble_validation_scores.append(ensemble_validation_accuracy)\n",
    "\n",
    "    # Output fold results\n",
    "    print(f\"GNB Training Accuracy: {gnb_train_accuracy:.2f}, Validation Accuracy: {gnb_val_accuracy:.2f}\")\n",
    "    print(f\"MNB Training Accuracy: {mnb_train_accuracy:.2f}, Validation Accuracy: {mnb_val_accuracy:.2f}\")\n",
    "    print(f\"Ensemble Training Accuracy: {ensemble_train_accuracy:.2f}, Validation Accuracy: {ensemble_validation_accuracy:.2f}\")\n",
    "\n",
    "# Calculate average scores across all folds\n",
    "average_gnb_train = np.mean(gnb_train_scores)\n",
    "average_gnb_val = np.mean(gnb_validation_scores)\n",
    "average_mnb_train = np.mean(mnb_train_scores)\n",
    "average_mnb_val = np.mean(mnb_validation_scores)\n",
    "\n",
    "average_ensemble_train = np.mean(ensemble_train_scores)\n",
    "average_ensemble_val = np.mean(ensemble_validation_scores)\n",
    "\n",
    "print(\"\\nFinal K-Fold Cross-Validation Results:\")\n",
    "print(f\"GNB Average Training Accuracy: {average_gnb_train:.2f}, Average Validation Accuracy: {average_gnb_val:.2f}\")\n",
    "print(f\"MNB Average Training Accuracy: {average_mnb_train:.2f}, Average Validation Accuracy: {average_mnb_val:.2f}\")\n",
    "print(f\"Ensemble Average Training Accuracy: {average_ensemble_train:.2f}, Average Validation Accuracy: {average_ensemble_val:.2f}\")\n"
   ]
  }
 ],
 "metadata": {
  "kernelspec": {
   "display_name": "Python 3",
   "language": "python",
   "name": "python3"
  },
  "language_info": {
   "codemirror_mode": {
    "name": "ipython",
    "version": 3
   },
   "file_extension": ".py",
   "mimetype": "text/x-python",
   "name": "python",
   "nbconvert_exporter": "python",
   "pygments_lexer": "ipython3",
   "version": "3.12.2"
  }
 },
 "nbformat": 4,
 "nbformat_minor": 2
}
